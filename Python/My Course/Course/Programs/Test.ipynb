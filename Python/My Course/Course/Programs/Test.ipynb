{
 "cells": [
  {
   "cell_type": "code",
   "execution_count": 76,
   "metadata": {},
   "outputs": [
    {
     "name": "stdout",
     "output_type": "stream",
     "text": [
      "     Name  Age  Salary Department  Net Salary\n",
      "0   Ayush   19   10000         HR    152000.0\n",
      "1  Khalid   20   22000         IT    277200.0\n",
      "2   Singh   19   15000         IT    198000.0\n"
     ]
    }
   ],
   "source": [
    "#using pandas create a dataframe comprising of the name, age, salary and department of n number of employees.\n",
    "#find out all the employees whose salary is less than 20000 increase the salary of all these employees by 10% and the remaining employees by 5%.\n",
    "#find out all the employees who work in marketing department add a bonus of 20000 to their salary, also calulate the net salary of all the employees in the marketing department for the year. using loc\n",
    "import pandas as pd\n",
    "import numpy as np\n",
    "n = int(input(\"Enter the number of employees: \"))\n",
    "name = []\n",
    "age = []\n",
    "salary = []\n",
    "department = []\n",
    "for i in range(n):\n",
    "    m1 = input(\"Enter the name of the employee: \")\n",
    "    name.append(m1)\n",
    "    m2 = int(input(\"Enter the age of the employee: \"))\n",
    "    age.append(m2)\n",
    "    m3 = int(input(\"Enter the salary of the employee: \"))\n",
    "    salary.append(m3)\n",
    "    m4 = input(\"Enter the department of the employee: \")\n",
    "    department.append(m4)\n",
    "netSal=salary.copy()\n",
    "for i in range(n):\n",
    "    netSal[i]*=12\n",
    "for i in range(n):\n",
    "    if (salary[i] < 20000):\n",
    "        #salary[i] +=(salary[i])*0.1\n",
    "        netSal[i] +=(netSal[i])*0.1\n",
    "    elif(salary[i] > 20000):\n",
    "        #salary[i] +=(salary[i])*0.05\n",
    "        netSal[i] +=(netSal[i])*0.05\n",
    "    if (department[i] == 'HR'):\n",
    "        #salary[i] += 20000\n",
    "        netSal[i] += 20000\n",
    "data = {'Name':name, 'Age':age, 'Salary':salary, 'Department':department, 'Net Salary':netSal}\n",
    "df = pd.DataFrame(data)\n",
    "print(df)"
   ]
  }
 ],
 "metadata": {
  "kernelspec": {
   "display_name": "Python 3",
   "language": "python",
   "name": "python3"
  },
  "language_info": {
   "codemirror_mode": {
    "name": "ipython",
    "version": 3
   },
   "file_extension": ".py",
   "mimetype": "text/x-python",
   "name": "python",
   "nbconvert_exporter": "python",
   "pygments_lexer": "ipython3",
   "version": "3.11.1"
  },
  "orig_nbformat": 4
 },
 "nbformat": 4,
 "nbformat_minor": 2
}
