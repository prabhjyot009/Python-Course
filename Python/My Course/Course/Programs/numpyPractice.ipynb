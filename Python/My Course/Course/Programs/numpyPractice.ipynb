{
 "cells": [
  {
   "cell_type": "code",
   "execution_count": 7,
   "metadata": {},
   "outputs": [
    {
     "name": "stdout",
     "output_type": "stream",
     "text": [
      "Print array type: <class 'numpy.ndarray'>\n",
      "Shape 2 rows 3 coloumns (3, 3)\n",
      "Dimensions: 2\n",
      "9\n",
      "int32\n"
     ]
    }
   ],
   "source": [
    "import numpy as np\n",
    "\n",
    "arr=np.array([[1,2,3],[4,5,6],[7,8,9]])\n",
    "\n",
    "print(\"Print array type:\",type(arr))\n",
    "print(\"Shape 2 rows 3 coloumns\",arr.shape)\n",
    "print(\"Dimensions:\",arr.ndim)\n",
    "print(arr.size)\n",
    "print(arr.dtype)\n",
    "\n"
   ]
  },
  {
   "cell_type": "code",
   "execution_count": 43,
   "metadata": {},
   "outputs": [
    {
     "name": "stdout",
     "output_type": "stream",
     "text": [
      "[[2. 2. 2.]\n",
      " [3. 3. 3.]]\n",
      "[0 5]\n",
      "[ 1.    3.25  5.5   7.75 10.  ]\n",
      "[[[ 1  2  3]\n",
      "  [ 4  6  7]]\n",
      "\n",
      " [[ 8  9 11]\n",
      "  [12 13 14]]]\n",
      "[ 1  2  3  4  6  7  8  9 11 12 13 14]\n"
     ]
    }
   ],
   "source": [
    "c=np.zeros([2,3])\n",
    "a=np.array([[2,2,2],[3,3,3]],dtype='float')\n",
    "print(a)\n",
    "b=np.arange(0,10,5)\n",
    "print(b)\n",
    "d=np.linspace(1,10,5)\n",
    "print(d)\n",
    "\n",
    "arr=np.array([[1,2,3,4],[6,7,8,9],[11,12,13,14]])\n",
    "newarr=arr.reshape(2,2,3)\n",
    "print(newarr)\n",
    "\n",
    "flat=arr.flatten()#it will convert 2d array to 1d array\n",
    "print(flat)"
   ]
  },
  {
   "cell_type": "code",
   "execution_count": 65,
   "metadata": {},
   "outputs": [
    {
     "name": "stdout",
     "output_type": "stream",
     "text": [
      "[[ 1  4]\n",
      " [ 5  8]\n",
      " [ 9 12]]\n"
     ]
    }
   ],
   "source": [
    "arr=np.array([[1,2,3,4],[5,6,7,8],[9,10,11,12]])\n",
    "temp=arr[:3,::3]\n",
    "print(temp)"
   ]
  }
 ],
 "metadata": {
  "kernelspec": {
   "display_name": "Python 3",
   "language": "python",
   "name": "python3"
  },
  "language_info": {
   "codemirror_mode": {
    "name": "ipython",
    "version": 3
   },
   "file_extension": ".py",
   "mimetype": "text/x-python",
   "name": "python",
   "nbconvert_exporter": "python",
   "pygments_lexer": "ipython3",
   "version": "3.11.1"
  },
  "orig_nbformat": 4
 },
 "nbformat": 4,
 "nbformat_minor": 2
}
