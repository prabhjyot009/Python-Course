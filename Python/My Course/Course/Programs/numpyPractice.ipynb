{
 "cells": [
  {
   "cell_type": "code",
   "execution_count": 2,
   "metadata": {},
   "outputs": [
    {
     "name": "stdout",
     "output_type": "stream",
     "text": [
      "Print array type: <class 'numpy.ndarray'>\n",
      "Shape 2 rows 3 coloumns (3, 3)\n",
      "Dimensions: 2\n",
      "9\n",
      "int32\n"
     ]
    }
   ],
   "source": [
    "import numpy as np\n",
    "\n",
    "arr=np.array([[1,2,3],[4,5,6],[7,8,9]])\n",
    "\n",
    "print(\"Print array type:\",type(arr))\n",
    "print(\"Shape 2 rows 3 coloumns\",arr.shape)\n",
    "print(\"Dimensions:\",arr.ndim)\n",
    "print(arr.size)\n",
    "print(arr.dtype)\n",
    "\n"
   ]
  },
  {
   "cell_type": "code",
   "execution_count": 43,
   "metadata": {},
   "outputs": [
    {
     "name": "stdout",
     "output_type": "stream",
     "text": [
      "[[2. 2. 2.]\n",
      " [3. 3. 3.]]\n",
      "[0 5]\n",
      "[ 1.    3.25  5.5   7.75 10.  ]\n",
      "[[[ 1  2  3]\n",
      "  [ 4  6  7]]\n",
      "\n",
      " [[ 8  9 11]\n",
      "  [12 13 14]]]\n",
      "[ 1  2  3  4  6  7  8  9 11 12 13 14]\n"
     ]
    }
   ],
   "source": [
    "c=np.zeros([2,3])\n",
    "a=np.array([[2,2,2],[3,3,3]],dtype='float')\n",
    "print(a)\n",
    "b=np.arange(0,10,5)\n",
    "print(b)\n",
    "d=np.linspace(1,10,5)\n",
    "print(d)\n",
    "\n",
    "arr=np.array([[1,2,3,4],[6,7,8,9],[11,12,13,14]])\n",
    "newarr=arr.reshape(2,2,3)\n",
    "print(newarr)\n",
    "\n",
    "flat=arr.flatten()#it will convert 2d array to 1d array\n",
    "print(flat)"
   ]
  },
  {
   "cell_type": "code",
   "execution_count": 76,
   "metadata": {},
   "outputs": [
    {
     "name": "stdout",
     "output_type": "stream",
     "text": [
      "[[ 1  4]\n",
      " [ 5  8]\n",
      " [ 9 12]]\n",
      "[[ 1  2  3  4]\n",
      " [ 5  6  7  8]\n",
      " [ 9 10 11 12]]\n",
      "[ 1  2  3  4  5  6  7  8  9 10 11 12]\n"
     ]
    }
   ],
   "source": [
    "arr=np.array([[1,2,3,4],[5,6,7,8],[9,10,11,12]])\n",
    "temp=arr[:3,::3]\n",
    "print(temp)\n",
    "index=arr[[0,1,2]]\n",
    "print(index)\n",
    "cond=arr>0\n",
    "temp=arr[cond]\n",
    "print(temp)"
   ]
  },
  {
   "cell_type": "code",
   "execution_count": 86,
   "metadata": {},
   "outputs": [
    {
     "name": "stdout",
     "output_type": "stream",
     "text": [
      "[2 3 4 5]\n",
      "[0 1 2 3]\n",
      "[2 4 6 8]\n",
      "[ 1  4  9 16]\n",
      "[2 4 6 8]\n",
      "[2 4 6 8]\n"
     ]
    }
   ],
   "source": [
    "#operations on single element in an array:\n",
    "a=np.array([1,2,3,4])\n",
    "print(a+1)\n",
    "print(a-1)\n",
    "print(a*2)\n",
    "print(a**2)\n",
    "a=a*2\n",
    "print(a)\n",
    "print(a.T)"
   ]
  },
  {
   "cell_type": "code",
   "execution_count": 97,
   "metadata": {},
   "outputs": [
    {
     "name": "stdout",
     "output_type": "stream",
     "text": [
      "[[1 2 3 4]\n",
      " [5 6 7 8]]\n",
      "36\n",
      "[ 1  3  6 10 15 21 28 36]\n",
      "8\n",
      "col wise [4 8]\n",
      "row wise [5 6 7 8]\n",
      "col wise [1 5]\n",
      "row wise [1 2 3 4]\n"
     ]
    }
   ],
   "source": [
    "arr=np.array([[1,2,3,4],[5,6,7,8]])\n",
    "print(arr)\n",
    "print(arr.sum())\n",
    "print(arr.cumsum())\n",
    "print(arr.max())\n",
    "print(\"col wise\",arr.max(axis=1))\n",
    "print(\"row wise\",arr.max(axis=0))\n",
    "print(\"col wise\",arr.min(axis=1))\n",
    "print(\"row wise\",arr.min(axis=0))"
   ]
  },
  {
   "cell_type": "code",
   "execution_count": 9,
   "metadata": {},
   "outputs": [
    {
     "name": "stdout",
     "output_type": "stream",
     "text": [
      "[[11 14]\n",
      " [35 46]]\n",
      "[[ 1  4]\n",
      " [25 36]] [[ 2  4]\n",
      " [10 12]] [[0 0]\n",
      " [0 0]]\n"
     ]
    }
   ],
   "source": [
    "arr1=np.array([[1,2],[5,6]])\n",
    "arr2=np.array([[1,2],[5,6]])\n",
    "#matrix multiplication:\n",
    "print(arr1.dot(arr2))\n",
    "print(arr1*arr2,arr1+arr2,arr1-arr2)\n",
    "\n"
   ]
  },
  {
   "cell_type": "code",
   "execution_count": 11,
   "metadata": {},
   "outputs": [
    {
     "name": "stdout",
     "output_type": "stream",
     "text": [
      "[1.         1.41421356 1.73205081]\n",
      "[ 2.71828183  7.3890561  20.08553692]\n"
     ]
    }
   ],
   "source": [
    "#exponent:\n",
    "a=np.array([1,2,3])\n",
    "print(np.sqrt(a))\n",
    "print(np.exp(a))"
   ]
  },
  {
   "cell_type": "code",
   "execution_count": 18,
   "metadata": {},
   "outputs": [
    {
     "name": "stdout",
     "output_type": "stream",
     "text": [
      "[-4 -3 -2 -1  0  1  2  3  5  6  7  8]\n",
      "[[ 0  1  2  3]\n",
      " [ 5  6  7  8]\n",
      " [-4 -3 -2 -1]]\n",
      "[[-1 -2 -3 -4]\n",
      " [ 1  2  0  3]\n",
      " [ 5  6  7  8]]\n",
      "[(b'Aakash', 2009, 9. ) (b'Ajay', 2008, 8.7) (b'Hrithik', 2009, 8.5)\n",
      " (b'Pankaj', 2008, 7.9)]\n"
     ]
    }
   ],
   "source": [
    "#array sort:\n",
    "a=np.array([[1,2,0,3],[5,6,7,8],[-1,-2,-3,-4]])\n",
    "print(np.sort(a,axis=None))\n",
    "#array row wise sort:\n",
    "print(np.sort(a,axis=1))\n",
    "#array coloumn wise sort:\n",
    "print(np.sort(a,axis=0))\n",
    "#coloumn wise merge sort:\n",
    "\n",
    "dtypes=[('name','S10'),('grad_year',int),('cgpa',float)]\n",
    "values=[('Hrithik', 2009, 8.5), ('Ajay', 2008, 8.7),\n",
    "           ('Pankaj', 2008, 7.9), ('Aakash', 2009, 9.0)]\n",
    "#creating array:\n",
    "arr=np.array(values,dtype=dtypes)\n",
    "print(np.sort(arr,order='name'))"
   ]
  }
 ],
 "metadata": {
  "kernelspec": {
   "display_name": "Python 3",
   "language": "python",
   "name": "python3"
  },
  "language_info": {
   "codemirror_mode": {
    "name": "ipython",
    "version": 3
   },
   "file_extension": ".py",
   "mimetype": "text/x-python",
   "name": "python",
   "nbconvert_exporter": "python",
   "pygments_lexer": "ipython3",
   "version": "3.11.1"
  },
  "orig_nbformat": 4
 },
 "nbformat": 4,
 "nbformat_minor": 2
}
